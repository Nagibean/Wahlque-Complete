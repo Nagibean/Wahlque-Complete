{
 "cells": [
  {
   "cell_type": "markdown",
   "metadata": {},
   "source": [
    "# 前言：水晶球⾥的行星"
   ]
  },
  {
   "cell_type": "markdown",
   "metadata": {},
   "source": [
    "## 引子"
   ]
  },
  {
   "cell_type": "markdown",
   "metadata": {},
   "source": [
    "蓝色的家园不只有一个，甚至宇宙也不只有一个。窗外的大千世界，映射入我们计算的水晶球里，于是我们便看到了另一个宇宙里的蓝色星球—瓦克星。\n",
    "\n",
    "<figure>\n",
    "  <img src=\"images/two-planet.png\" width=\"540px\">\n",
    "  <figcaption><center>图：地球与瓦克星大小的对比</center></figcaption>\n",
    "</figure>\n",
    "\n",
    "瓦克星比地球稍大，半径有8388余公里，上面也有高耸入云的山峰和波涛汹涌的海洋。然而瓦克星和地球有非常大的差异，它位于一个双星系统里，围绕着它的两颗母星旋转。\n",
    "\n",
    "当飞船飞临瓦克星的上空，舷窗外的星球并非一个完美的月牙形或者半圆，我们看到的是半圆斜挂出一角，这景象提醒着我们来到了一个不同的世界。\n",
    "\n",
    "瓦克星，我们来了！\n",
    "\n",
    "<figure>\n",
    "  <img src=\"images/half-phase.jpg\" width=\"540px\">\n",
    "  <figcaption><center>图：舷窗外的瓦克星</center></figcaption>\n",
    "</figure>\n"
   ]
  },
  {
   "cell_type": "markdown",
   "metadata": {},
   "source": [
    "## 计划的缘起"
   ]
  },
  {
   "cell_type": "markdown",
   "metadata": {},
   "source": [
    "小说《三体》是作家刘慈欣的科幻作品，它故事展开的背景是在离地球最近的半人马座的三体星系中。有一天笔者在图书馆翻看《三体》的介绍，心头便萌生了一个问题：三体的世界非常不稳定，而对于宇宙里非常普遍的双星系统里，其中的行星世界上会怎么样呢？ \n",
    "\n",
    "被这个问题强烈的吸引，笔者做了一系列的计算机模拟，对这样一个世界逐渐有了一定的认识。于是一个更大胆的想法产生了：能否建立一个开源项目，通过模拟一个有两个太阳的行星世界，上面的海洋、山川、光、热、风、雨，甚至生命，来促进物理、数学和计算机知识的教育。\n",
    "\n",
    "瓦克星计划便建立起来，也有了自己的网站。虽然，到目前为止，这个项目在进展中遇到很多困难，但也取得一些小的结果。下面便是对这个探索过程中遇到的问题、思考和结果的汇总。"
   ]
  },
  {
   "cell_type": "markdown",
   "metadata": {},
   "source": [
    "## 建构世界的路径"
   ]
  },
  {
   "cell_type": "markdown",
   "metadata": {},
   "source": [
    "模拟一个新世界这件事情听起来很酷，但入手要怎么来做呢？我们设想了一条由简易到复杂的路径：\n",
    "\n",
    "* 恒星系建模：目标是建立一个稳定而宜居的行星轨道。\n",
    "* 行星建模：涉及行星表面物理机制的建模，比如地表特征、大气环流、洋流、天气现象、潮汐等等。\n",
    "* 生物圈建模：行星建模的结果会设定好行星上不同地点的水、光、热条件，这样才能给生物建模提供条件。\n",
    "\n",
    "计划执行过程中最大困难在于征集到合适的志愿者。这些志愿者要有足够的科学背景，熟练的掌握计算工具，同时还要有足够的业余时间和兴趣。目前计划进展到行星建模阶段，正在尝试解决天气的模拟。"
   ]
  }
 ],
 "metadata": {
  "kernelspec": {
   "display_name": "Python 3",
   "language": "python",
   "name": "python3"
  },
  "language_info": {
   "codemirror_mode": {
    "name": "ipython",
    "version": 3
   },
   "file_extension": ".py",
   "mimetype": "text/x-python",
   "name": "python",
   "nbconvert_exporter": "python",
   "pygments_lexer": "ipython3",
   "version": "3.4.3"
  }
 },
 "nbformat": 4,
 "nbformat_minor": 0
}
