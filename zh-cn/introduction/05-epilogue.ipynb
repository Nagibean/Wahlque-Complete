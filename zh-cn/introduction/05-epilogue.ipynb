{
 "cells": [
  {
   "cell_type": "markdown",
   "metadata": {},
   "source": [
    "# 结语：宇宙里的自省意识"
   ]
  },
  {
   "cell_type": "markdown",
   "metadata": {},
   "source": [
    "根据截止到2014年6月的统计数据，2009年3月升空的开普勒卫星已经帮助人们发现并确认了近千颗系外行星。这些发现让人们确认了行星在宇宙中的普遍存在。我们有理由进一步相信，宇宙如此广袤，地球上智慧生命的存在应该不是一个孤⽴而特别的事情。"
   ]
  },
  {
   "cell_type": "markdown",
   "metadata": {},
   "source": [
    "然而，我们的文化对于接受生命在宇宙中普遍存在似乎还没有做好充分的准备。瓦克星计划，某种程度上讲，试图在通过一种不同，来使我们人类保持一种在宇宙里的自我反省的意识。"
   ]
  }
 ],
 "metadata": {
  "kernelspec": {
   "display_name": "Python 3",
   "language": "python",
   "name": "python3"
  },
  "language_info": {
   "codemirror_mode": {
    "name": "ipython",
    "version": 3
   },
   "file_extension": ".py",
   "mimetype": "text/x-python",
   "name": "python",
   "nbconvert_exporter": "python",
   "pygments_lexer": "ipython3",
   "version": "3.4.3"
  }
 },
 "nbformat": 4,
 "nbformat_minor": 0
}
