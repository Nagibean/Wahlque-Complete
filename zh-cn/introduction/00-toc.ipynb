{
 "cells": [
  {
   "cell_type": "markdown",
   "metadata": {},
   "source": [
    "# 瓦克星计划"
   ]
  },
  {
   "cell_type": "markdown",
   "metadata": {},
   "source": [
    "想像力比知识更重要。因为知识限定于我们现在知道和理解的，\n",
    "而想象力却拥抱整个世界，所有的那些将要被获知和理解的。\n",
    "\n",
    "— 阿尔伯特·爱因斯坦"
   ]
  },
  {
   "cell_type": "markdown",
   "metadata": {},
   "source": [
    "目录\n",
    "----\n",
    "\n",
    "* [前言：水晶球⾥的行星](01-prelude.ipynb)\n",
    "* [恒星系建模](02-star-system.ipynb)\n",
    "* [行星建模](03-planet-modeling.ipynb)（未完成）\n",
    "* [生物圈建模](04-biosphere.ipynb)（未完成）\n",
    "* [结语：宇宙里的自省意识](05-epilogue.ipynb)（未完成）"
   ]
  },
  {
   "cell_type": "markdown",
   "metadata": {},
   "source": [
    "版权声明\n",
    "--------\n",
    "\n",
    "本文档除下述声明的内容之外，所有内容依 cc0 释放于公有领域。\n",
    "\n",
    "* 图像地球，来源于维基百科用户，依照 cc-by-sa 发布"
   ]
  }
 ],
 "metadata": {
  "kernelspec": {
   "display_name": "Python 3",
   "language": "python",
   "name": "python3"
  },
  "language_info": {
   "codemirror_mode": {
    "name": "ipython",
    "version": 3
   },
   "file_extension": ".py",
   "mimetype": "text/x-python",
   "name": "python",
   "nbconvert_exporter": "python",
   "pygments_lexer": "ipython3",
   "version": "3.4.3"
  }
 },
 "nbformat": 4,
 "nbformat_minor": 0
}
