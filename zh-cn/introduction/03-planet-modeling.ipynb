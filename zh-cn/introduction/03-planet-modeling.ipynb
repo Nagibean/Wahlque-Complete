{
 "cells": [
  {
   "cell_type": "markdown",
   "metadata": {},
   "source": [
    "# 瓦克星计划：行星建模"
   ]
  },
  {
   "cell_type": "markdown",
   "metadata": {},
   "source": [
    "行星建模是涉及行星表面物理机制的建模过程。我们完成了地表特征的生成、估计温室效应和对大⽓现象的初步模拟。"
   ]
  },
  {
   "cell_type": "markdown",
   "metadata": {},
   "source": [
    "## 建构地表特征"
   ]
  },
  {
   "cell_type": "markdown",
   "metadata": {},
   "source": [
    "菱形方块算法是常用的地表特征生成算法，它的常见形式是在一个方形区域上展开的。我们对它稍加变形，让它适应球面上地表特征生成的特殊需求。如下图，标准的菱形方块算法反复执⾏如下两个大的步骤。"
   ]
  },
  {
   "cell_type": "markdown",
   "metadata": {},
   "source": [
    "菱形方块算法步骤\n",
    "\n",
    "> __方块步骤__\n",
    ">\n",
    ">  * 取方块四角点的平均值作为中心点的基础值\n",
    ">  * 再在基础值上叠加一个反映粗糙度的随机值，该随机值与方块边长和粗糙度正相关\n",
    ">\n",
    "> __菱形步骤__\n",
    ">\n",
    ">  * 取菱形四角点的平均值作为中心点的基础值\n",
    ">  * 再在基础值上叠加一个反映粗糙度的随机值，该随机值与菱形边长和粗糙度正相关\n",
    ">\n",
    "\n",
    "两个步骤交错执行，会逐渐把方形区域密分填满。"
   ]
  },
  {
   "cell_type": "markdown",
   "metadata": {},
   "source": [
    "<figure>\n",
    "  <img src=\"images/diamond-square.png\" width=\"360px\">\n",
    "  <figcaption><center>图：菱形方块算法的中心点生成</center></figcaption>\n",
    "</figure>"
   ]
  },
  {
   "cell_type": "markdown",
   "metadata": {},
   "source": [
    "我们在球面经纬网格基础上改造菱形方块算法，主要有四个要点:\n",
    "\n",
    "*  最左经线和最右经线要粘合在一起，其上的对应格点取相同值\n",
    "*  最顶上的纬线是北极点，要粘合成一个点，该纬线上的格点取相同值\n",
    "*  最底下的纬线是南极点，要粘合成一个点，该纬线上的格点取相同值\n",
    "*  不同纬线上格点的间隔长度不等，与纬度的余弦成正比"
   ]
  },
  {
   "cell_type": "markdown",
   "metadata": {},
   "source": [
    "算法中基础值会叠加一个随机的粗糙量，但实际模拟中我们寻求的是一个固定的地表特征，怎么解决这个问题呢？其实，只要采用确定性的伪随机数生成器，同时赋予生成器相同的种子（seed），就可以顺利解决这个小问题。"
   ]
  },
  {
   "cell_type": "markdown",
   "metadata": {},
   "source": [
    "下图就是我们利用算法生成出来的一幅瓦克星全球地形图。可以看到有两个大陆和两个大的岛屿。大陆上有山地、高原、平原等地形区别。当把地图按照相应的经纬度投影到球面之上，我们便得到了图(一)中的瓦克星全球的俯视图，加上恒星照射产⽣生的白昼和黑夜便得到了图(二)中的景象。"
   ]
  },
  {
   "cell_type": "markdown",
   "metadata": {},
   "source": [
    "<figure>\n",
    "  <img src=\"images/terra.png\" width=\"540px\">\n",
    "  <figcaption><center>图：瓦克星全球地形图</center></figcaption>\n",
    "</figure>"
   ]
  },
  {
   "cell_type": "markdown",
   "metadata": {},
   "source": [
    "## 温室效应的估计"
   ]
  },
  {
   "cell_type": "markdown",
   "metadata": {},
   "source": [
    "本节我们⽤一个简化模型来估计瓦克星的温室效应。一方面，我们不考虑地气系统的纬向差异，认为系统参量只是纬度的函数。另一⽅面，我们假设瓦克星类似于地球，有相同的地气系统辐射平衡模式。"
   ]
  },
  {
   "cell_type": "markdown",
   "metadata": {},
   "source": [
    "我们设定 $T_s$ 和 $T_a$ 代表地表温度和大气温度，它们都是纬度 $\\phi$ 和时间 $t$ 的函数。$L_1$ 和 $L_2$ 分别代表母星一和二入射的短波辐射带来的能量。如果我们考虑下垫面的物态变化，如是否结冰，它会影响反照率 $r$ 和比热容 $c$。"
   ]
  },
  {
   "cell_type": "markdown",
   "metadata": {},
   "source": []
  },
  {
   "cell_type": "markdown",
   "metadata": {},
   "source": [
    "## 初步模拟大气现象"
   ]
  },
  {
   "cell_type": "markdown",
   "metadata": {},
   "source": [
    "# "
   ]
  },
  {
   "cell_type": "markdown",
   "metadata": {},
   "source": [
    "## 未来计划"
   ]
  },
  {
   "cell_type": "markdown",
   "metadata": {},
   "source": []
  },
  {
   "cell_type": "markdown",
   "metadata": {},
   "source": []
  },
  {
   "cell_type": "code",
   "execution_count": null,
   "metadata": {
    "collapsed": true
   },
   "outputs": [],
   "source": []
  }
 ],
 "metadata": {
  "kernelspec": {
   "display_name": "Python 3",
   "language": "python",
   "name": "python3"
  },
  "language_info": {
   "codemirror_mode": {
    "name": "ipython",
    "version": 3
   },
   "file_extension": ".py",
   "mimetype": "text/x-python",
   "name": "python",
   "nbconvert_exporter": "python",
   "pygments_lexer": "ipython3",
   "version": "3.4.3"
  }
 },
 "nbformat": 4,
 "nbformat_minor": 0
}
