{
 "cells": [
  {
   "cell_type": "markdown",
   "metadata": {},
   "source": [
    "# 生物圈建模"
   ]
  },
  {
   "cell_type": "markdown",
   "metadata": {
    "collapsed": true
   },
   "source": [
    "生物圈建模是我们还没有展开的工作，本节描述我们对此的初步考虑。生物圈建模的目标是创建一个自我演化的瓦克星生物世界。这里的生物有一定的形态，能够自我维持和繁衍，同时处于一个生态网链结构之中。生物圈建模提供一个瓦克星生物的基础，然后用户可以设计出新的生物物种，并且操纵生物个体的行为。这样瓦克星世界就可以变成一个高级的生态学电子游戏。"
   ]
  },
  {
   "cell_type": "markdown",
   "metadata": {},
   "source": [
    "## 物种编码与环境参数"
   ]
  },
  {
   "cell_type": "markdown",
   "metadata": {},
   "source": [
    "与地球上的生物利用遗传物质编码了生命的各种信息一样，瓦克星上的生物也有自己的编码方式。具有相同编码类型的生物个体的集合构成一个物种，它们有相同的原型，但有略微不同的具体参数。"
   ]
  },
  {
   "cell_type": "markdown",
   "metadata": {},
   "source": [
    "在初步描述瓦克星生物编码之前，我们先回顾地球生物的异速生长现象。异速生长律是实际测量到的一类幂率关系，它把生物体的尺度同其生理、生态特征联系起来。而这个观测到的幂率,往不同于将生命体几何结构同构扩张后得到的理论幂率，故此称为异速生长。文献中经常提到的异速生长现象包括:\n",
    "\n",
    "* 体重和摄⾷食率正相关,幂率为 0.7。\n",
    "* 体重和基础代谢率⽔水平正相关,幂率为 0.75,称为克莱伯定律\n",
    "* 体重与内禀增长率负相关,幂率⼤大约在 -0.27 左右"
   ]
  },
  {
   "cell_type": "markdown",
   "metadata": {},
   "source": [
    "我们其实可以把异速生长律理解为一种高效的编码方式，仅尺度一个参数就决定了生理学和生态学的很多特征。所以，作为一个初步的提议，我们可以考虑瓦克星的物种编码了以下信息。\n",
    "\n",
    "* 形态学信息：对植物来说,可以包括 L 系统的生长规则；对动物来说可以包括特征尺度、骨架结构、体重等\n",
    "* 行为学信息：如最大奔跑速度\n",
    "* 生态学信息：内禀增长率、食谱组成等"
   ]
  },
  {
   "cell_type": "markdown",
   "metadata": {},
   "source": [
    "刻画一个物种的种群状态，我们需要有: \n",
    "* 物种丰度的地理分布\n",
    "* 物种种群的年龄结构"
   ]
  },
  {
   "cell_type": "markdown",
   "metadata": {},
   "source": [
    "## L-系统与植物形态"
   ]
  },
  {
   "cell_type": "markdown",
   "metadata": {},
   "source": []
  },
  {
   "cell_type": "markdown",
   "metadata": {},
   "source": [
    "## 游戏与生态模拟"
   ]
  },
  {
   "cell_type": "markdown",
   "metadata": {},
   "source": []
  }
 ],
 "metadata": {
  "kernelspec": {
   "display_name": "Python 3",
   "language": "python",
   "name": "python3"
  },
  "language_info": {
   "codemirror_mode": {
    "name": "ipython",
    "version": 3
   },
   "file_extension": ".py",
   "mimetype": "text/x-python",
   "name": "python",
   "nbconvert_exporter": "python",
   "pygments_lexer": "ipython3",
   "version": "3.4.3"
  }
 },
 "nbformat": 4,
 "nbformat_minor": 0
}
