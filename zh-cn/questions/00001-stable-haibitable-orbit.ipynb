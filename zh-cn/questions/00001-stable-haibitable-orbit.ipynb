{
 "metadata": {
  "name": "",
  "signature": "sha256:38426a90e31658d506b3d0940b0584d3066519348b35ec27c605970d6e6ee88d"
 },
 "nbformat": 3,
 "nbformat_minor": 0,
 "worksheets": [
  {
   "cells": [
    {
     "cell_type": "heading",
     "level": 1,
     "metadata": {},
     "source": [
      "\u786e\u5b9a\u4e00\u6761\u7a33\u5b9a\u7684\u5b9c\u5c45\u8f68\u9053"
     ]
    },
    {
     "cell_type": "heading",
     "level": 2,
     "metadata": {},
     "source": [
      "\u95ee\u9898\u63cf\u8ff0"
     ]
    },
    {
     "cell_type": "markdown",
     "metadata": {},
     "source": [
      "\u7ed9\u74e6\u514b\u661f\u6e38\u620f\u786e\u5b9a\u4e00\u6761\u7a33\u5b9a\u5b9c\u5c45\u7684\u8f68\u9053\u3002"
     ]
    },
    {
     "cell_type": "heading",
     "level": 2,
     "metadata": {},
     "source": [
      "\u95ee\u9898\u72b6\u6001"
     ]
    },
    {
     "cell_type": "markdown",
     "metadata": {},
     "source": [
      "\u90e8\u5206\u89e3\u51b3\uff0c\u9700\u8981\u9a8c\u8bc1\u548c\u8fdb\u4e00\u6b65\u4f18\u5316"
     ]
    },
    {
     "cell_type": "heading",
     "level": 2,
     "metadata": {},
     "source": [
      "\u76f8\u5173\u95ee\u9898"
     ]
    },
    {
     "cell_type": "markdown",
     "metadata": {},
     "source": [
      "* [\u9f99\u683c-\u5e93\u5854\u6cd5\u91cc\u7684\u80fd\u91cf\u6f02\u79fb](10001-energy-drift-of-rk-method.ipynb)"
     ]
    }
   ],
   "metadata": {}
  }
 ]
}