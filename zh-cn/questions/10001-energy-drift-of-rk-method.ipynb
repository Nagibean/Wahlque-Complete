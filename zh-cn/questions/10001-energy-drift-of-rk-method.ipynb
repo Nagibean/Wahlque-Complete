{
 "metadata": {
  "name": "",
  "signature": "sha256:a10b41e47dc3395a19e641b313429d8bd0a9ed06c1b68f87f8e37e1dd5625540"
 },
 "nbformat": 3,
 "nbformat_minor": 0,
 "worksheets": [
  {
   "cells": [
    {
     "cell_type": "heading",
     "level": 1,
     "metadata": {},
     "source": [
      "\u9f99\u683c-\u5e93\u5854\u6cd5\u91cc\u7684\u80fd\u91cf\u6f02\u79fb"
     ]
    },
    {
     "cell_type": "heading",
     "level": 2,
     "metadata": {},
     "source": [
      "\u95ee\u9898\u63cf\u8ff0"
     ]
    },
    {
     "cell_type": "markdown",
     "metadata": {},
     "source": [
      "\u6211\u4eec\u7528\u6700\u5e38\u7528\u7684\u6570\u503c\u6c42\u89e3\u65b9\u6cd5\u2014\u9f99\u683c\u5e93\u5854\u6cd5\u6c42\u89e3\u4e86\u5e73\u9762\u4e09\u4f53\u95ee\u9898\u7684\u8fd0\u52a8\u65b9\u7a0b\uff1b\u4f46\u53d1\u73b0\u7531\u4e8e\u8bef\u5dee\u7684\u79ef\u7d2f\u6548\u5e94\uff0c\u6574\u4e2a\u4f53\u7cfb\u4e0d\u4fdd\u6301\u80fd\u91cf\u5b88\u6052\u3002"
     ]
    },
    {
     "cell_type": "heading",
     "level": 2,
     "metadata": {},
     "source": [
      "\u95ee\u9898\u72b6\u6001"
     ]
    },
    {
     "cell_type": "markdown",
     "metadata": {},
     "source": [
      "\u5df2\u7ecf\u89e3\u51b3"
     ]
    },
    {
     "cell_type": "heading",
     "level": 2,
     "metadata": {},
     "source": [
      "\u8fdb\u4e00\u6b65\u89e3\u91ca"
     ]
    },
    {
     "cell_type": "markdown",
     "metadata": {},
     "source": [
      "\u6211\u4eec\u4ee5 Pythogras \u4e09\u4f53\u95ee\u9898\u4e3a\u4f8b\uff0c\u7528 RK4 \u6c42\u89e3\uff0c\u7136\u540e\u89c2\u5bdf\u4f53\u7cfb\u7684\u80fd\u91cf\u3002"
     ]
    },
    {
     "cell_type": "code",
     "collapsed": false,
     "input": [
      "import numpy as np\n",
      "import wq.core.physics.unit.au as au\n",
      "\n",
      "from math import sqrt\n",
      "from wq.core.math.ode import rk4 as solver\n",
      "from wq.core.physics.nbody.body3p import derivativeOf\n",
      "\n",
      "deriv = derivativeOf(au, 5.0, 3.0, 4.0)\n",
      "step = solver(deriv)\n",
      "\n",
      "time = 0\n",
      "phase = np.array([0.0, 0.0, 0.0, 0.0, 0.0, 4.0, 0.0, 0.0, 3.0, 0.0, 0.0, 0.0])\n",
      "\n",
      "K = 0.0\n",
      "U = - au.G * (5.0 * 4.0 / 3.0 + 3.0 * 5.0 / 4.0 + 3.0 * 4.0 / 5.0)\n",
      "E = K + U\n",
      "\n",
      "def evolve(tao):\n",
      "    global time, phase, K, U, E\n",
      "\n",
      "    time, phase = step(time, phase, tao)\n",
      "    x1  = phase[0]\n",
      "    y1  = phase[1]\n",
      "    vx1 = phase[2]\n",
      "    vy1 = phase[3]\n",
      "    x2  = phase[4]\n",
      "    y2  = phase[5]\n",
      "    vx2 = phase[6]\n",
      "    vy2 = phase[7]\n",
      "    x3  = phase[8]\n",
      "    y3  = phase[9]\n",
      "    vx3 = phase[10]\n",
      "    vy3 = phase[11]\n",
      "\n",
      "    r12 = sqrt((x1 - x2) * (x1 - x2) + (y1 - y2) * (y1 - y2))\n",
      "    r13 = sqrt((x1 - x3) * (x1 - x3) + (y1 - y3) * (y1 - y3))\n",
      "    r23 = sqrt((x2 - x3) * (x2 - x3) + (y2 - y3) * (y2 - y3))\n",
      "\n",
      "    v1 = sqrt(vx1 * vx1 + vy1 * vy1)\n",
      "    v2 = sqrt(vx2 * vx2 + vy2 * vy2)\n",
      "    v3 = sqrt(vx3 * vx3 + vy3 * vy3)\n",
      "\n",
      "    K = (5.0 * (vx1 * vx1 + vy1 * vy1) + 3.0 * (vx2 * vx2 + vy2 * vy2) + 4.0 * (vx3 * vx3 + vy3 * vy3)) /2\n",
      "    U = - au.G * (5.0 * 3.0 / r12 + 5.0 * 4.0 / r13 + 3.0 * 4.0 / r23)\n",
      "    E = K + U\n",
      "\n",
      "    return min(r12, r13, r23), max(v1, v2, v3)"
     ],
     "language": "python",
     "metadata": {},
     "outputs": [],
     "prompt_number": 1
    },
    {
     "cell_type": "markdown",
     "metadata": {},
     "source": [
      "\u6f14\u5316\u7a0b\u5e8f\u505a\u597d\u4e86\uff0c\u8ba9\u6211\u4eec\u505a\u4e00\u4e2a\u56fe\u8868\u770b\u770b\u661f\u4f53\u7684\u8f68\u9053\u6f14\u8fdb\u548c\u80fd\u91cf\u7684\u53d8\u5316\u8d8b\u52bf\u3002"
     ]
    },
    {
     "cell_type": "code",
     "collapsed": false,
     "input": [
      "import plotly.plotly as py\n",
      "from plotly.graph_objs import *\n",
      "\n",
      "serial_time = [time]\n",
      "serial_x1 = [0]\n",
      "serial_y1 = [0]\n",
      "serial_x2 = [0]\n",
      "serial_y2 = [4]\n",
      "serial_x3 = [3]\n",
      "serial_y3 = [0]\n",
      "serial_energy = [E]\n",
      "\n",
      "dt = 0.1\n",
      "for i in range(5000):\n",
      "    minDist, maxVelo = evolve(dt)\n",
      "    dt = min(minDist / maxVelo / 100, 0.1)\n",
      "\n",
      "    x1 = phase[0]\n",
      "    y1 = phase[1]\n",
      "    x2 = phase[4]\n",
      "    y2 = phase[5]\n",
      "    x3 = phase[8]\n",
      "    y3 = phase[9]\n",
      "\n",
      "    serial_time.append(time)\n",
      "    serial_x1.append(x1)\n",
      "    serial_y1.append(y1)\n",
      "    serial_x2.append(x2)\n",
      "    serial_y2.append(y2)\n",
      "    serial_x3.append(x3)\n",
      "    serial_y3.append(y3)\n",
      "    serial_energy.append(E)\n",
      "\n",
      "trace = Scatter(x=serial_time, y=serial_energy)\n",
      "data = Data([trace])\n",
      "unique_url = py.plot(data, filename = 'energy-drift-by-rk4')\n",
      "\n",
      "trace1 = Scatter(x=serial_x1, y=serial_y1)\n",
      "trace2 = Scatter(x=serial_x2, y=serial_y2)\n",
      "trace3 = Scatter(x=serial_x3, y=serial_y3)\n",
      "\n",
      "data = Data([trace1, trace2, trace3])\n",
      "unique_url = py.plot(data, filename = 'pythogras-3-body-rk4')"
     ],
     "language": "python",
     "metadata": {},
     "outputs": [
      {
       "output_type": "stream",
       "stream": "stdout",
       "text": [
        "High five! You successfuly sent some data to your account on plotly. View your plot in your browser at https://plot.ly/~mountain/0 or inside your plot.ly account where it is named 'energy-drift-by-rk4'\n"
       ]
      }
     ],
     "prompt_number": 2
    },
    {
     "cell_type": "heading",
     "level": 2,
     "metadata": {},
     "source": [
      "\u76f8\u5173\u95ee\u9898"
     ]
    },
    {
     "cell_type": "markdown",
     "metadata": {},
     "source": [
      "\uff08TODO\uff09\u2026\u2026"
     ]
    },
    {
     "cell_type": "code",
     "collapsed": false,
     "input": [],
     "language": "python",
     "metadata": {},
     "outputs": []
    }
   ],
   "metadata": {}
  }
 ]
}