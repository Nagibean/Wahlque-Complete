{
 "metadata": {
  "name": "",
  "signature": "sha256:23f1b67b8ebae8b1e4d45fcaf3141d2ca3413bcb1ec6a816d4d2722e78e85343"
 },
 "nbformat": 3,
 "nbformat_minor": 0,
 "worksheets": [
  {
   "cells": [
    {
     "cell_type": "heading",
     "level": 1,
     "metadata": {},
     "source": [
      "\u9f99\u683c-\u5e93\u5854\u6cd5\u91cc\u7684\u80fd\u91cf\u6f02\u79fb"
     ]
    },
    {
     "cell_type": "heading",
     "level": 2,
     "metadata": {},
     "source": [
      "\u95ee\u9898\u63cf\u8ff0"
     ]
    },
    {
     "cell_type": "markdown",
     "metadata": {},
     "source": [
      "\u6211\u4eec\u7528\u6700\u5e38\u7528\u7684\u6570\u503c\u6c42\u89e3\u65b9\u6cd5\u2014\u9f99\u683c\u5e93\u5854\u6cd5\u6c42\u89e3\u4e86\u9650\u5b9a\u6027\u5e73\u9762\u4e09\u4f53\u95ee\u9898\u7684\u8fd0\u52a8\u65b9\u7a0b\uff1b\u4f46\u53d1\u73b0\u7531\u4e8e\u8bef\u5dee\u7684\u79ef\u7d2f\u6548\u5e94\uff0c\u6574\u4e2a\u4f53\u7cfb\u4e0d\u4fdd\u6301\u80fd\u91cf\u5b88\u6052\u3002"
     ]
    },
    {
     "cell_type": "heading",
     "level": 2,
     "metadata": {},
     "source": [
      "\u95ee\u9898\u72b6\u6001"
     ]
    },
    {
     "cell_type": "markdown",
     "metadata": {},
     "source": [
      "\u5df2\u7ecf\u89e3\u51b3"
     ]
    },
    {
     "cell_type": "heading",
     "level": 2,
     "metadata": {},
     "source": [
      "\u8fdb\u4e00\u6b65\u89e3\u91ca"
     ]
    },
    {
     "cell_type": "markdown",
     "metadata": {},
     "source": [
      "\uff08TODO\uff09\u6211\u4eec\u9700\u8981\u516c\u5f0f\u3001\u7a0b\u5e8f\u548c\u56fe\u8868"
     ]
    },
    {
     "cell_type": "heading",
     "level": 2,
     "metadata": {},
     "source": [
      "\u76f8\u5173\u95ee\u9898"
     ]
    },
    {
     "cell_type": "markdown",
     "metadata": {},
     "source": [
      "\uff08TODO\uff09\u2026\u2026"
     ]
    },
    {
     "cell_type": "code",
     "collapsed": false,
     "input": [],
     "language": "python",
     "metadata": {},
     "outputs": []
    }
   ],
   "metadata": {}
  }
 ]
}