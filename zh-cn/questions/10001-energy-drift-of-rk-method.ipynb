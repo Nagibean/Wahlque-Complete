{
 "cells": [
  {
   "cell_type": "markdown",
   "metadata": {},
   "source": [
    "# 龙格-库塔法里的能量漂移"
   ]
  },
  {
   "cell_type": "markdown",
   "metadata": {},
   "source": [
    "## 问题描述"
   ]
  },
  {
   "cell_type": "markdown",
   "metadata": {},
   "source": [
    "我们用最常用的数值求解方法—龙格库塔法求解了平面三体问题的运动方程；但发现由于误差的积累效应，整个体系不保持能量守恒。"
   ]
  },
  {
   "cell_type": "markdown",
   "metadata": {},
   "source": [
    "## 问题状态"
   ]
  },
  {
   "cell_type": "markdown",
   "metadata": {},
   "source": [
    "已经解决"
   ]
  },
  {
   "cell_type": "markdown",
   "metadata": {},
   "source": [
    "## 进一步解释"
   ]
  },
  {
   "cell_type": "markdown",
   "metadata": {},
   "source": [
    "我们以 Pythogras 三体问题为例，用 RK4 求解，然后观察体系的能量。"
   ]
  },
  {
   "cell_type": "code",
   "execution_count": 1,
   "metadata": {
    "collapsed": false
   },
   "outputs": [],
   "source": [
    "import numpy as np\n",
    "import wq.core.physics.unit.au as au\n",
    "\n",
    "from math import sqrt\n",
    "from wq.core.math.ode import rk4 as solver\n",
    "from wq.core.physics.nbody.body3p import derivativeOf\n",
    "\n",
    "deriv = derivativeOf(au, 5.0, 3.0, 4.0)\n",
    "step = solver(deriv)\n",
    "\n",
    "time = 0\n",
    "phase = np.array([0.0, 0.0, 0.0, 0.0, 0.0, 4.0, 0.0, 0.0, 3.0, 0.0, 0.0, 0.0])\n",
    "\n",
    "K = 0.0\n",
    "U = - au.G * (5.0 * 4.0 / 3.0 + 3.0 * 5.0 / 4.0 + 3.0 * 4.0 / 5.0)\n",
    "E = K + U\n",
    "\n",
    "def evolve(tao):\n",
    "    global time, phase, K, U, E\n",
    "\n",
    "    time, phase = step(time, phase, tao)\n",
    "    x1  = phase[0]\n",
    "    y1  = phase[1]\n",
    "    vx1 = phase[2]\n",
    "    vy1 = phase[3]\n",
    "    x2  = phase[4]\n",
    "    y2  = phase[5]\n",
    "    vx2 = phase[6]\n",
    "    vy2 = phase[7]\n",
    "    x3  = phase[8]\n",
    "    y3  = phase[9]\n",
    "    vx3 = phase[10]\n",
    "    vy3 = phase[11]\n",
    "\n",
    "    r12 = sqrt((x1 - x2) * (x1 - x2) + (y1 - y2) * (y1 - y2))\n",
    "    r13 = sqrt((x1 - x3) * (x1 - x3) + (y1 - y3) * (y1 - y3))\n",
    "    r23 = sqrt((x2 - x3) * (x2 - x3) + (y2 - y3) * (y2 - y3))\n",
    "\n",
    "    v1 = sqrt(vx1 * vx1 + vy1 * vy1)\n",
    "    v2 = sqrt(vx2 * vx2 + vy2 * vy2)\n",
    "    v3 = sqrt(vx3 * vx3 + vy3 * vy3)\n",
    "\n",
    "    K = (5.0 * (vx1 * vx1 + vy1 * vy1) + 3.0 * (vx2 * vx2 + vy2 * vy2) + 4.0 * (vx3 * vx3 + vy3 * vy3)) /2\n",
    "    U = - au.G * (5.0 * 3.0 / r12 + 5.0 * 4.0 / r13 + 3.0 * 4.0 / r23)\n",
    "    E = K + U\n",
    "\n",
    "    return min(r12, r13, r23), max(v1, v2, v3)"
   ]
  },
  {
   "cell_type": "markdown",
   "metadata": {},
   "source": [
    "演化程序做好了，让我们做一个图表看看星体的轨道演进和能量的变化趋势。"
   ]
  },
  {
   "cell_type": "code",
   "execution_count": 2,
   "metadata": {
    "collapsed": false
   },
   "outputs": [
    {
     "name": "stdout",
     "output_type": "stream",
     "text": [
      "High five! You successfuly sent some data to your account on plotly. View your plot in your browser at https://plot.ly/~mountain/0 or inside your plot.ly account where it is named 'energy-drift-by-rk4'\n"
     ]
    }
   ],
   "source": [
    "import plotly.plotly as py\n",
    "from plotly.graph_objs import *\n",
    "\n",
    "serial_time = [time]\n",
    "serial_x1 = [0]\n",
    "serial_y1 = [0]\n",
    "serial_x2 = [0]\n",
    "serial_y2 = [4]\n",
    "serial_x3 = [3]\n",
    "serial_y3 = [0]\n",
    "serial_energy = [E]\n",
    "\n",
    "dt = 0.1\n",
    "for i in range(5000):\n",
    "    minDist, maxVelo = evolve(dt)\n",
    "    dt = min(minDist / maxVelo / 100, 0.1)\n",
    "\n",
    "    x1 = phase[0]\n",
    "    y1 = phase[1]\n",
    "    x2 = phase[4]\n",
    "    y2 = phase[5]\n",
    "    x3 = phase[8]\n",
    "    y3 = phase[9]\n",
    "\n",
    "    serial_time.append(time)\n",
    "    serial_x1.append(x1)\n",
    "    serial_y1.append(y1)\n",
    "    serial_x2.append(x2)\n",
    "    serial_y2.append(y2)\n",
    "    serial_x3.append(x3)\n",
    "    serial_y3.append(y3)\n",
    "    serial_energy.append(E)\n",
    "\n",
    "trace = Scatter(x=serial_time, y=serial_energy)\n",
    "data = Data([trace])\n",
    "unique_url = py.plot(data, filename = 'energy-drift-by-rk4')\n",
    "\n",
    "trace1 = Scatter(x=serial_x1, y=serial_y1)\n",
    "trace2 = Scatter(x=serial_x2, y=serial_y2)\n",
    "trace3 = Scatter(x=serial_x3, y=serial_y3)\n",
    "\n",
    "data = Data([trace1, trace2, trace3])\n",
    "unique_url = py.plot(data, filename = 'pythogras-3-body-rk4')"
   ]
  },
  {
   "cell_type": "markdown",
   "metadata": {},
   "source": [
    "## 相关问题"
   ]
  },
  {
   "cell_type": "markdown",
   "metadata": {},
   "source": [
    "（TODO）……"
   ]
  },
  {
   "cell_type": "code",
   "execution_count": null,
   "metadata": {
    "collapsed": false
   },
   "outputs": [],
   "source": []
  }
 ],
 "metadata": {
  "kernelspec": {
   "display_name": "Python 3",
   "language": "python",
   "name": "python3"
  },
  "language_info": {
   "codemirror_mode": {
    "name": "ipython",
    "version": 3
   },
   "file_extension": ".py",
   "mimetype": "text/x-python",
   "name": "python",
   "nbconvert_exporter": "python",
   "pygments_lexer": "ipython3",
   "version": "3.4.3"
  }
 },
 "nbformat": 4,
 "nbformat_minor": 0
}
