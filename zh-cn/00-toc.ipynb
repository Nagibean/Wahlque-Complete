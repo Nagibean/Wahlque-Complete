{
 "metadata": {
  "name": "",
  "signature": "sha256:5e1bbbf64548faf550331332bab12380ab74b4cd3f3e6a39830132e4776473a7"
 },
 "nbformat": 3,
 "nbformat_minor": 0,
 "worksheets": [
  {
   "cells": [
    {
     "cell_type": "heading",
     "level": 1,
     "metadata": {},
     "source": [
      "\u74e6\u514b\u661f\u8ba1\u5212"
     ]
    },
    {
     "cell_type": "markdown",
     "metadata": {},
     "source": [
      "\u60f3\u50cf\u529b\u6bd4\u77e5\u8bc6\u66f4\u91cd\u8981\u3002\u56e0\u4e3a\u77e5\u8bc6\u9650\u5b9a\u4e8e\u6211\u4eec\u73b0\u5728\u77e5\u9053\u548c\u7406\u89e3\u7684\uff0c\n",
      "\u800c\u60f3\u8c61\u529b\u5374\u62e5\u62b1\u6574\u4e2a\u4e16\u754c\uff0c\u6240\u6709\u7684\u90a3\u4e9b\u5c06\u8981\u88ab\u83b7\u77e5\u548c\u7406\u89e3\u7684\u3002\n",
      "\n",
      "\u2014 \u963f\u5c14\u4f2f\u7279\u00b7\u7231\u56e0\u65af\u5766"
     ]
    },
    {
     "cell_type": "markdown",
     "metadata": {},
     "source": [
      "\u76ee\u5f55\n",
      "----\n",
      "\n",
      "* [\u524d\u8a00\uff1a\u6c34\u6676\u7403\u2fa5\u7684\u884c\u661f](01-prelude.ipynb)\n",
      "* [\u6052\u661f\u7cfb\u5efa\u6a21](02-star-system.ipynb)\n",
      "* [\u884c\u661f\u5efa\u6a21](03-planet.ipynb)\n",
      "* [\u751f\u7269\u5708\u5efa\u6a21](04-biosphere.ipynb)\n",
      "* [\u7ed3\u8bed\uff1a\u5b87\u5b99\u91cc\u7684\u81ea\u7701\u610f\u8bc6](05-epilogue.ipynb)"
     ]
    },
    {
     "cell_type": "markdown",
     "metadata": {},
     "source": [
      "\u7248\u6743\u58f0\u660e\n",
      "--------\n",
      "\n",
      "\u672c\u6587\u6863\u9664\u4e0b\u8ff0\u58f0\u660e\u7684\u5185\u5bb9\u4e4b\u5916\uff0c\u6240\u6709\u5185\u5bb9\u4f9d cc0 \u91ca\u653e\u4e8e\u516c\u6709\u9886\u57df\u3002\n",
      "\n",
      "* \u56fe\u50cf\u5730\u7403\uff0c\u6765\u6e90\u4e8e\u7ef4\u57fa\u767e\u79d1\u7528\u6237\uff0c\u4f9d\u7167 cc-by-sa \u53d1\u5e03"
     ]
    },
    {
     "cell_type": "code",
     "collapsed": false,
     "input": [],
     "language": "python",
     "metadata": {},
     "outputs": []
    }
   ],
   "metadata": {}
  }
 ]
}