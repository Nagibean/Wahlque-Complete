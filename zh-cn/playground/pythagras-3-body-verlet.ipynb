{
 "cells": [
  {
   "cell_type": "code",
   "execution_count": 9,
   "metadata": {
    "collapsed": false
   },
   "outputs": [],
   "source": [
    "import numpy as np\n",
    "import wq.core.physics.unit.au as au\n",
    "\n",
    "from math import sqrt\n",
    "from wq.core.math.ode import verlet as solver\n",
    "from wq.core.physics.nbody.body3p import accelerationOf\n",
    "\n",
    "accel = accelerationOf(au, 5.0, 3.0, 4.0)\n",
    "step = solver(accel)\n",
    "\n",
    "time = 0\n",
    "x = np.array([0.0, 0.0, 0.0, 4.0, 3.0, 0.0])\n",
    "v = np.array([0.0, 0.0, 0.0, 0.0, 0.0, 0.0])\n",
    "\n",
    "cx = 4.0 * 3.0 / (5.0 + 3.0 + 4.0)\n",
    "cy = 3.0 * 4.0 / (5.0 + 3.0 + 4.0)\n",
    "\n",
    "K = 0.0\n",
    "U = - au.G * (5.0 * 4.0 / 3.0 + 3.0 * 5.0 / 4.0 + 3.0 * 4.0 / 5.0)\n",
    "E = K + U\n",
    "\n",
    "def evolve(tao):\n",
    "    global time, x, v, K, U, E\n",
    "\n",
    "    time, x, v = step(time, x, v, tao)\n",
    "    x1  = x[0]\n",
    "    y1  = x[1]\n",
    "    x2  = x[2]\n",
    "    y2  = x[3]\n",
    "    x3  = x[4]\n",
    "    y3  = x[5]\n",
    "    vx1 = v[0]\n",
    "    vy1 = v[1]\n",
    "    vx2 = v[2]\n",
    "    vy2 = v[3]\n",
    "    vx3 = v[4]\n",
    "    vy3 = v[5]\n",
    "\n",
    "    r12 = sqrt((x1 - x2) * (x1 - x2) + (y1 - y2) * (y1 - y2))\n",
    "    r13 = sqrt((x1 - x3) * (x1 - x3) + (y1 - y3) * (y1 - y3))\n",
    "    r23 = sqrt((x2 - x3) * (x2 - x3) + (y2 - y3) * (y2 - y3))\n",
    "\n",
    "    v1 = sqrt(vx1 * vx1 + vy1 * vy1)\n",
    "    v2 = sqrt(vx2 * vx2 + vy2 * vy2)\n",
    "    v3 = sqrt(vx3 * vx3 + vy3 * vy3)\n",
    "\n",
    "    K = (5.0 * (vx1 * vx1 + vy1 * vy1) + 3.0 * (vx2 * vx2 + vy2 * vy2) + 4.0 * (vx3 * vx3 + vy3 * vy3)) /2\n",
    "    U = - au.G * (5.0 * 3.0 / r12 + 5.0 * 4.0 / r13 + 3.0 * 4.0 / r23)\n",
    "    E = K + U\n",
    "\n",
    "    dx = (5.0 * x1 + 3.0 * x2 + 4.0 * x3) / (5.0 + 3.0 + 4.0) - cx\n",
    "    dy = (5.0 * y1 + 3.0 * y2 + 4.0 * y3) / (5.0 + 3.0 + 4.0) - cy\n",
    "\n",
    "    x[0] = x[0] - dx\n",
    "    x[1] = x[1] - dy\n",
    "    x[2] = x[2] - dx\n",
    "    x[3] = x[3] - dy\n",
    "    x[4] = x[4] - dx\n",
    "    x[5] = x[5] - dy\n",
    "\n",
    "    return min(r12, r13, r23), max(v1, v2, v3)"
   ]
  },
  {
   "cell_type": "code",
   "execution_count": 10,
   "metadata": {
    "collapsed": false
   },
   "outputs": [
    {
     "data": {
      "image/png": "[encoded data removed]",
      "text/plain": [
       "<matplotlib.figure.Figure at 0x10cd23278>"
      ]
     },
     "metadata": {},
     "output_type": "display_data"
    }
   ],
   "source": [
    "%matplotlib inline\n",
    "\n",
    "import matplotlib.pyplot as plt\n",
    "\n",
    "serial_time = [time]\n",
    "serial_x1 = [0]\n",
    "serial_y1 = [0]\n",
    "serial_x2 = [0]\n",
    "serial_y2 = [4]\n",
    "serial_x3 = [3]\n",
    "serial_y3 = [0]\n",
    "serial_energy = [E]\n",
    "\n",
    "dt = 0.1\n",
    "for i in range(6):\n",
    "    for j in range(5000):\n",
    "        minDist, maxVelo = evolve(dt)\n",
    "        dt = min(minDist / maxVelo / 100, 0.1)\n",
    "\n",
    "        x1 = x[0]\n",
    "        y1 = x[1]\n",
    "        x2 = x[2]\n",
    "        y2 = x[3]\n",
    "        x3 = x[4]\n",
    "        y3 = x[5]\n",
    "\n",
    "        serial_time.append(time)\n",
    "        serial_x1.append(x1)\n",
    "        serial_y1.append(y1)\n",
    "        serial_x2.append(x2)\n",
    "        serial_y2.append(y2)\n",
    "        serial_x3.append(x3)\n",
    "        serial_y3.append(y3)\n",
    "        serial_energy.append(E)\n",
    "\n",
    "    plt.subplot(321+i)\n",
    "    plt.scatter(serial_x1, serial_y1, facecolor='r', edgecolor='none', marker='.')\n",
    "    plt.scatter(serial_x2, serial_y2, facecolor='g', edgecolor='none', marker='.')\n",
    "    plt.scatter(serial_x3, serial_y3, facecolor='b', edgecolor='none', marker='.')\n",
    "\n",
    "    serial_time = [serial_time[-1]]\n",
    "    serial_x1 = [serial_x1[-1]]\n",
    "    serial_y1 = [serial_y1[-1]]\n",
    "    serial_x2 = [serial_x2[-1]]\n",
    "    serial_y2 = [serial_y2[-1]]\n",
    "    serial_x3 = [serial_x3[-1]]\n",
    "    serial_y3 = [serial_y3[-1]]\n",
    "    serial_energy = [serial_energy[-1]]\n",
    "        \n",
    "plt.show()"
   ]
  },
  {
   "cell_type": "code",
   "execution_count": null,
   "metadata": {
    "collapsed": true
   },
   "outputs": [],
   "source": []
  }
 ],
 "metadata": {
  "kernelspec": {
   "display_name": "Python 3",
   "language": "python",
   "name": "python3"
  },
  "language_info": {
   "codemirror_mode": {
    "name": "ipython",
    "version": 3
   },
   "file_extension": ".py",
   "mimetype": "text/x-python",
   "name": "python",
   "nbconvert_exporter": "python",
   "pygments_lexer": "ipython3",
   "version": "3.4.3"
  }
 },
 "nbformat": 4,
 "nbformat_minor": 0
}
