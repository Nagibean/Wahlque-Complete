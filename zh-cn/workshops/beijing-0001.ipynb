{
 "metadata": {
  "name": "",
  "signature": "sha256:5754846aeb717c98c3751582a310fe371545578447da2cda1cc497e5a6ab8ba3"
 },
 "nbformat": 3,
 "nbformat_minor": 0,
 "worksheets": [
  {
   "cells": [
    {
     "cell_type": "heading",
     "level": 1,
     "metadata": {},
     "source": [
      "\u5317\u4eac\u7b2c\u4e00\u6b21\u5de5\u4f5c\u574a"
     ]
    },
    {
     "cell_type": "markdown",
     "metadata": {},
     "source": [
      "2014\u5e748\u670824\u65e5\uff0c\u4e0b\u53482\u70b9\u81f35\u70b9\uff0c\u4e8e\u8574\u5473\u5496\u5561"
     ]
    },
    {
     "cell_type": "heading",
     "level": 2,
     "metadata": {},
     "source": [
      "\u5de5\u4f5c\u574a\u8bb2\u4e49"
     ]
    },
    {
     "cell_type": "markdown",
     "metadata": {},
     "source": [
      "TODO"
     ]
    },
    {
     "cell_type": "heading",
     "level": 2,
     "metadata": {},
     "source": [
      "\u8fdb\u5c55\u548c\u8ba8\u8bba"
     ]
    },
    {
     "cell_type": "markdown",
     "metadata": {},
     "source": [
      "TODO"
     ]
    },
    {
     "cell_type": "code",
     "collapsed": false,
     "input": [],
     "language": "python",
     "metadata": {},
     "outputs": []
    }
   ],
   "metadata": {}
  }
 ]
}